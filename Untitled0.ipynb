{
  "nbformat": 4,
  "nbformat_minor": 0,
  "metadata": {
    "colab": {
      "provenance": [],
      "gpuType": "T4"
    },
    "kernelspec": {
      "name": "python3",
      "display_name": "Python 3"
    },
    "language_info": {
      "name": "python"
    },
    "accelerator": "GPU"
  },
  "cells": [
    {
      "cell_type": "code",
      "execution_count": 22,
      "metadata": {
        "id": "nhOs7iHVaPEA",
        "colab": {
          "base_uri": "https://localhost:8080/"
        },
        "outputId": "f3672250-055e-4262-d53e-41ff29b2acca"
      },
      "outputs": [
        {
          "output_type": "stream",
          "name": "stdout",
          "text": [
            "Requirement already satisfied: nltk in /usr/local/lib/python3.10/dist-packages (3.8.1)\n",
            "Requirement already satisfied: click in /usr/local/lib/python3.10/dist-packages (from nltk) (8.1.7)\n",
            "Requirement already satisfied: joblib in /usr/local/lib/python3.10/dist-packages (from nltk) (1.3.2)\n",
            "Requirement already satisfied: regex>=2021.8.3 in /usr/local/lib/python3.10/dist-packages (from nltk) (2023.6.3)\n",
            "Requirement already satisfied: tqdm in /usr/local/lib/python3.10/dist-packages (from nltk) (4.66.1)\n",
            "Requirement already satisfied: datasets in /usr/local/lib/python3.10/dist-packages (2.16.1)\n",
            "Requirement already satisfied: filelock in /usr/local/lib/python3.10/dist-packages (from datasets) (3.13.1)\n",
            "Requirement already satisfied: numpy>=1.17 in /usr/local/lib/python3.10/dist-packages (from datasets) (1.23.5)\n",
            "Requirement already satisfied: pyarrow>=8.0.0 in /usr/local/lib/python3.10/dist-packages (from datasets) (10.0.1)\n",
            "Requirement already satisfied: pyarrow-hotfix in /usr/local/lib/python3.10/dist-packages (from datasets) (0.6)\n",
            "Requirement already satisfied: dill<0.3.8,>=0.3.0 in /usr/local/lib/python3.10/dist-packages (from datasets) (0.3.7)\n",
            "Requirement already satisfied: pandas in /usr/local/lib/python3.10/dist-packages (from datasets) (1.5.3)\n",
            "Requirement already satisfied: requests>=2.19.0 in /usr/local/lib/python3.10/dist-packages (from datasets) (2.31.0)\n",
            "Requirement already satisfied: tqdm>=4.62.1 in /usr/local/lib/python3.10/dist-packages (from datasets) (4.66.1)\n",
            "Requirement already satisfied: xxhash in /usr/local/lib/python3.10/dist-packages (from datasets) (3.4.1)\n",
            "Requirement already satisfied: multiprocess in /usr/local/lib/python3.10/dist-packages (from datasets) (0.70.15)\n",
            "Requirement already satisfied: fsspec[http]<=2023.10.0,>=2023.1.0 in /usr/local/lib/python3.10/dist-packages (from datasets) (2023.6.0)\n",
            "Requirement already satisfied: aiohttp in /usr/local/lib/python3.10/dist-packages (from datasets) (3.9.1)\n",
            "Requirement already satisfied: huggingface-hub>=0.19.4 in /usr/local/lib/python3.10/dist-packages (from datasets) (0.20.2)\n",
            "Requirement already satisfied: packaging in /usr/local/lib/python3.10/dist-packages (from datasets) (23.2)\n",
            "Requirement already satisfied: pyyaml>=5.1 in /usr/local/lib/python3.10/dist-packages (from datasets) (6.0.1)\n",
            "Requirement already satisfied: attrs>=17.3.0 in /usr/local/lib/python3.10/dist-packages (from aiohttp->datasets) (23.2.0)\n",
            "Requirement already satisfied: multidict<7.0,>=4.5 in /usr/local/lib/python3.10/dist-packages (from aiohttp->datasets) (6.0.4)\n",
            "Requirement already satisfied: yarl<2.0,>=1.0 in /usr/local/lib/python3.10/dist-packages (from aiohttp->datasets) (1.9.4)\n",
            "Requirement already satisfied: frozenlist>=1.1.1 in /usr/local/lib/python3.10/dist-packages (from aiohttp->datasets) (1.4.1)\n",
            "Requirement already satisfied: aiosignal>=1.1.2 in /usr/local/lib/python3.10/dist-packages (from aiohttp->datasets) (1.3.1)\n",
            "Requirement already satisfied: async-timeout<5.0,>=4.0 in /usr/local/lib/python3.10/dist-packages (from aiohttp->datasets) (4.0.3)\n",
            "Requirement already satisfied: typing-extensions>=3.7.4.3 in /usr/local/lib/python3.10/dist-packages (from huggingface-hub>=0.19.4->datasets) (4.5.0)\n",
            "Requirement already satisfied: charset-normalizer<4,>=2 in /usr/local/lib/python3.10/dist-packages (from requests>=2.19.0->datasets) (3.3.2)\n",
            "Requirement already satisfied: idna<4,>=2.5 in /usr/local/lib/python3.10/dist-packages (from requests>=2.19.0->datasets) (3.6)\n",
            "Requirement already satisfied: urllib3<3,>=1.21.1 in /usr/local/lib/python3.10/dist-packages (from requests>=2.19.0->datasets) (2.0.7)\n",
            "Requirement already satisfied: certifi>=2017.4.17 in /usr/local/lib/python3.10/dist-packages (from requests>=2.19.0->datasets) (2023.11.17)\n",
            "Requirement already satisfied: python-dateutil>=2.8.1 in /usr/local/lib/python3.10/dist-packages (from pandas->datasets) (2.8.2)\n",
            "Requirement already satisfied: pytz>=2020.1 in /usr/local/lib/python3.10/dist-packages (from pandas->datasets) (2023.3.post1)\n",
            "Requirement already satisfied: six>=1.5 in /usr/local/lib/python3.10/dist-packages (from python-dateutil>=2.8.1->pandas->datasets) (1.16.0)\n",
            "Requirement already satisfied: pandas in /usr/local/lib/python3.10/dist-packages (1.5.3)\n",
            "Requirement already satisfied: python-dateutil>=2.8.1 in /usr/local/lib/python3.10/dist-packages (from pandas) (2.8.2)\n",
            "Requirement already satisfied: pytz>=2020.1 in /usr/local/lib/python3.10/dist-packages (from pandas) (2023.3.post1)\n",
            "Requirement already satisfied: numpy>=1.21.0 in /usr/local/lib/python3.10/dist-packages (from pandas) (1.23.5)\n",
            "Requirement already satisfied: six>=1.5 in /usr/local/lib/python3.10/dist-packages (from python-dateutil>=2.8.1->pandas) (1.16.0)\n",
            "Requirement already satisfied: numpy in /usr/local/lib/python3.10/dist-packages (1.23.5)\n",
            "Requirement already satisfied: gensim in /usr/local/lib/python3.10/dist-packages (4.3.2)\n",
            "Requirement already satisfied: numpy>=1.18.5 in /usr/local/lib/python3.10/dist-packages (from gensim) (1.23.5)\n",
            "Requirement already satisfied: scipy>=1.7.0 in /usr/local/lib/python3.10/dist-packages (from gensim) (1.11.4)\n",
            "Requirement already satisfied: smart-open>=1.8.1 in /usr/local/lib/python3.10/dist-packages (from gensim) (6.4.0)\n"
          ]
        },
        {
          "output_type": "stream",
          "name": "stderr",
          "text": [
            "[nltk_data] Downloading package punkt to /root/nltk_data...\n",
            "[nltk_data]   Package punkt is already up-to-date!\n",
            "[nltk_data] Downloading package stopwords to /root/nltk_data...\n",
            "[nltk_data]   Unzipping corpora/stopwords.zip.\n"
          ]
        },
        {
          "output_type": "stream",
          "name": "stdout",
          "text": [
            "Drive already mounted at /content/drive; to attempt to forcibly remount, call drive.mount(\"/content/drive\", force_remount=True).\n"
          ]
        }
      ],
      "source": [
        "!pip install nltk\n",
        "!pip install datasets\n",
        "!pip install pandas\n",
        "!pip install numpy\n",
        "!pip install gensim\n",
        "import numpy as np\n",
        "from google.colab import drive\n",
        "from datasets import load_dataset\n",
        "import nltk\n",
        "from nltk.tokenize import word_tokenize\n",
        "import pandas as pd\n",
        "from nltk.corpus import stopwords\n",
        "from gensim.models import Word2Vec\n",
        "import re\n",
        "\n",
        "nltk.download('punkt')\n",
        "nltk.download('stopwords')\n",
        "drive.mount('/content/drive')"
      ]
    },
    {
      "cell_type": "code",
      "source": [
        "df = pd.read_csv('/content/drive/My Drive/newsqa-data-v1.csv')\n",
        "df.head()\n",
        "df['text'] = df['question'].astype(str).apply(lambda x: word_tokenize(re.sub(r'[^a-zA-Z\\s]', '', x.lower())))\n",
        "stop_words = set(stopwords.words('english'))\n",
        "df['text'] = df['text'].apply(lambda x: [word for word in x if word not in stop_words])\n"
      ],
      "metadata": {
        "id": "c9GtjRZDuNj9"
      },
      "execution_count": 27,
      "outputs": []
    },
    {
      "cell_type": "code",
      "source": [
        "\n",
        "model = Word2Vec(sentences=df['text'], vector_size=100, window=5, min_count=1, workers=4)\n"
      ],
      "metadata": {
        "id": "aoLndBLpxHB7"
      },
      "execution_count": 25,
      "outputs": []
    },
    {
      "cell_type": "code",
      "source": [
        "for word in df['text'].iloc[0]:\n",
        "    if word in model.wv:\n",
        "        print(f'{word}: {model.wv[word]}')"
      ],
      "metadata": {
        "colab": {
          "base_uri": "https://localhost:8080/"
        },
        "id": "Umvh-y0ZxOBD",
        "outputId": "0ae474a5-e168-4d10-f0ad-d4211fea8681"
      },
      "execution_count": 26,
      "outputs": [
        {
          "output_type": "stream",
          "name": "stdout",
          "text": [
            "amount: [-0.24039218  0.41797063  0.18625675  0.31344277 -0.39749616 -1.2161132\n",
            " -0.12460318  1.5152203  -0.52235514 -0.48140296 -0.2890214  -0.8076073\n",
            "  0.11286239  0.26589602  0.04788027  0.08949649  0.08680478 -0.8382126\n",
            "  0.11533254 -1.256288    0.2841753  -0.13971497  0.41635197 -0.33548626\n",
            "  0.13108607  0.15932177 -0.35169888 -0.16388339 -0.7964277  -0.07414727\n",
            "  0.60080624  0.3167425   0.43300262 -0.56960714  0.1848865   0.626559\n",
            "  0.32891774 -0.7591247  -0.3280912  -1.1977065  -0.15129057 -0.87680393\n",
            " -0.5589464   0.30456212  0.22560523 -0.52034444 -1.0860391   0.302151\n",
            "  0.19661787  0.3514917   0.02239262 -0.5111153  -0.559094    0.0605862\n",
            " -0.46309897  0.6432438   0.3546627  -0.42997825 -0.46263787  0.3681479\n",
            "  0.10178874  0.57654434 -0.4265851  -0.0339753  -0.7327443   0.49999475\n",
            "  0.16613768  0.3298663  -0.46187305  0.33476382 -0.35424376  0.63751805\n",
            "  0.46686542 -0.23378868  0.66247255  0.76289076  0.3906235  -0.09296844\n",
            " -0.4147609  -0.03315782 -0.23805608 -0.08554967 -0.29710874  0.9012533\n",
            " -0.32418725  0.17274559  0.13531967  0.51652527  0.86511004  0.6186738\n",
            "  0.6886657   0.29414764  0.03108034  0.16415143  1.0133933   0.6627296\n",
            "  0.34232524 -0.6981491   0.04422963  0.2368774 ]\n",
            "children: [-0.31327385  0.48199695  0.110512    0.17156042 -0.02825841 -1.0466303\n",
            " -0.166524    1.5355614  -0.46545908 -0.53844166 -0.17766468 -1.0316641\n",
            "  0.21799774  0.3569196   0.3265848  -0.21767893  0.5721866  -0.43751147\n",
            " -0.02995784 -1.7742422   0.02221579 -0.37743205  0.32946616 -0.6820718\n",
            "  0.3078388  -0.12862562 -0.08171924  0.17025192 -1.1389637  -0.01935\n",
            "  0.88980186 -0.1795899   0.27325338 -0.72831655 -0.41292095  0.3155842\n",
            "  0.173979   -0.7043233  -0.25436395 -1.1531353  -0.24115191 -0.68571\n",
            " -0.61147827  0.5735523   0.8479816  -0.12375946 -1.0864496   0.18758975\n",
            "  0.05179471  0.6503517   0.2626629  -0.5868332  -0.39447406 -0.18626359\n",
            " -0.88572896  0.53894395  0.4479379  -0.11825258 -0.79060555  0.3427946\n",
            "  0.46588245  0.36979738 -0.14492385  0.24363515 -1.0875206   0.8738702\n",
            "  0.33654064  0.5721697  -0.55013055  0.3333965  -0.23607567  0.3833061\n",
            "  0.859824   -0.0412421   0.5829859   0.67265767  0.7567952   0.03120598\n",
            " -0.6134311  -0.24062395 -0.15918516 -0.3559757  -0.7161758   0.92846\n",
            "  0.20411907  0.02152104 -0.17671633  0.51414555  1.0565295   0.5067039\n",
            "  0.5216755   0.36740056  0.27782196 -0.02367424  1.272804    0.91161376\n",
            "  0.650189   -0.8643745   0.2598652  -0.3047685 ]\n",
            "murdered: [-1.02959774e-01  1.45042837e-01  3.04024946e-02  9.93555859e-02\n",
            " -4.24175635e-02 -3.24929744e-01 -9.25553963e-04  5.10134697e-01\n",
            " -1.19144335e-01 -1.04536742e-01 -1.13762379e-01 -2.71836877e-01\n",
            " -4.38307971e-02  1.00537397e-01  1.56426728e-02 -6.00937605e-02\n",
            "  3.26658040e-02 -2.82576382e-01  8.10307711e-02 -3.34155947e-01\n",
            "  1.34101972e-01 -3.15815546e-02  2.17873901e-01 -8.80628303e-02\n",
            "  4.30058278e-02  2.87513398e-02 -1.26049757e-01 -2.48175152e-02\n",
            " -2.44460076e-01  1.13312574e-03  2.32230991e-01  4.74312678e-02\n",
            "  6.92925006e-02 -1.96725085e-01  3.25090960e-02  1.94971323e-01\n",
            "  5.87268397e-02 -2.00941384e-01 -5.86493798e-02 -3.54471922e-01\n",
            "  2.47533470e-02 -2.47208968e-01 -1.41293555e-01  1.43380929e-02\n",
            "  1.24675907e-01 -1.28588945e-01 -2.73335427e-01  1.04966715e-01\n",
            "  4.82833013e-02  1.47094384e-01  3.85977477e-02 -2.49522015e-01\n",
            " -1.53737128e-01 -1.57802757e-02 -1.87465534e-01  1.33388445e-01\n",
            "  7.13589489e-02 -9.45517495e-02 -1.38608307e-01  9.17726532e-02\n",
            "  3.36084142e-02  1.20749570e-01 -1.05136201e-01 -4.09138687e-02\n",
            " -1.95795819e-01  1.56269699e-01  1.20508194e-01  1.20354608e-01\n",
            " -1.78453147e-01  1.41455084e-01 -1.25024825e-01  1.69154257e-01\n",
            "  1.85263380e-01 -1.00693598e-01  2.40299985e-01  1.06764860e-01\n",
            "  2.42139958e-02 -2.76317783e-02 -1.30190223e-01 -3.56927048e-04\n",
            " -1.01755880e-01 -6.09359741e-02 -1.41610891e-01  1.85482427e-01\n",
            " -1.81492120e-02 -2.66675167e-02  4.35594171e-02  1.45327345e-01\n",
            "  2.06324458e-01  7.95357376e-02  2.33312905e-01  4.58486937e-02\n",
            "  8.52661729e-02 -2.92249341e-02  3.41779113e-01  1.72266856e-01\n",
            "  9.44167450e-02 -1.58477768e-01 -3.48032303e-02  9.92655307e-02]\n"
          ]
        }
      ]
    }
  ]
}